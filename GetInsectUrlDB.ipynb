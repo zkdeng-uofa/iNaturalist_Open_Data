{
 "cells": [
  {
   "cell_type": "code",
   "execution_count": 1,
   "id": "46e23c11-bafd-44ac-9752-40daa56eedb2",
   "metadata": {},
   "outputs": [],
   "source": [
    "import sqlite3\n",
    "import pandas as pd\n",
    "import time\n",
    "pd.set_option('display.width', 500)"
   ]
  },
  {
   "cell_type": "code",
   "execution_count": 3,
   "id": "c4847fe6-2b9b-49fb-b133-1a6dccc3b314",
   "metadata": {},
   "outputs": [
    {
     "name": "stdout",
     "output_type": "stream",
     "text": [
      "0\n"
     ]
    }
   ],
   "source": [
    "inat_con = sqlite3.connect(\"inaturalist-open-data-20220127.sq3db\")\n",
    "print(inat_con.total_changes)"
   ]
  },
  {
   "cell_type": "code",
   "execution_count": null,
   "id": "29644f58-2355-493c-bea2-fcc8b850e5b6",
   "metadata": {},
   "outputs": [],
   "source": [
    "start_time = time.time()\n",
    "insect_url_df = pd.read_sql_query(\n",
    "    \"WITH urls AS (SELECT 'http://inaturalist-open-data.s3.amazonaws.com/photos/' AS photo_url) \"\n",
    "    \"SELECT B.*, U.photo_url || A.photo_id || '/' || 'large.' || A.extension AS photo_url_large, D.name AS taxon_name, D.ancestry, D.taxon_id, A.photo_id, A.photo_uuid, A.extension \"\n",
    "    \"FROM urls U \"\n",
    "    \"CROSS JOIN photos A \"\n",
    "    \"JOIN observers B \"\n",
    "    \"ON A.observer_id = B.observer_id \"\n",
    "    \"JOIN observations C \"\n",
    "    \"ON A.observation_uuid = C.observation_uuid \"\n",
    "    \"LEFT JOIN taxa D \"\n",
    "    \"ON C.taxon_id = D.taxon_id \"\n",
    "    \"WHERE D.ancestry LIKE '48460/1/47120/372739/47158/%' \"\n",
    "    \"AND D.rank = 'species' \"\n",
    "    \"AND C.quality_grade = 'research' \", \n",
    "    inat_con\n",
    ")\n",
    "\n",
    "print(insect_url_df.head())\n",
    "insect_url_df.to_csv('iNaturalist_Insects_URLs.csv', index=False)\n",
    "inat_con.close()\n",
    "print(\"Executed in %.2f seconds\" % (time.time() - start_time))"
   ]
  },
  {
   "cell_type": "code",
   "execution_count": 4,
   "id": "2a8c7bcc-873b-4e83-b227-5d719e4a513b",
   "metadata": {},
   "outputs": [],
   "source": [
    "start_time = time.time()\n",
    "insect_url_df = pd.read_csv('iNaturalist_Insects_URLs.csv')\n",
    "print(\"Executed in %.2f seconds\" % (time.time() - start_time))"
   ]
  },
  {
   "cell_type": "code",
   "execution_count": 5,
   "id": "c847b38f-db56-4497-b8fa-e57c4696a448",
   "metadata": {},
   "outputs": [
    {
     "data": {
      "text/plain": [
       "11516311"
      ]
     },
     "execution_count": 5,
     "metadata": {},
     "output_type": "execute_result"
    }
   ],
   "source": [
    "start_time = time.time()\n",
    "insect_con = sqlite3.connect(\"indexd-insects-inaturalist-open-data-20220127.sq3db\")\n",
    "insect_url_df.to_sql(\"insects\", insect_con, if_exists=\"replace\")\n",
    "print(\"Executed in %.2f seconds\" % (time.time() - start_time))"
   ]
  },
  {
   "cell_type": "code",
   "execution_count": 8,
   "id": "75d2f0b2-7423-4119-8416-29699ac978c8",
   "metadata": {},
   "outputs": [
    {
     "name": "stdout",
     "output_type": "stream",
     "text": [
      "Executed in 0.01 seconds\n"
     ]
    }
   ],
   "source": [
    "start_time = time.time()\n",
    "cursor = insect_con.cursor()\n",
    "cursor.execute('CREATE INDEX IF NOT EXISTS \"idx_insects_ancestry\" ON \"insects\" (\"ancestry\")')\n",
    "cursor.execute('CREATE INDEX IF NOT EXISTS \"idx_insects_login\" ON \"insects\" (\"login\")') \n",
    "cursor.execute('CREATE INDEX IF NOT EXISTS \"idx_insects_name\" ON \"insects\" (\"name\")') \n",
    "cursor.execute('CREATE INDEX IF NOT EXISTS \"idx_insects_observer_id\" ON \"insects\" (\"observer_id\")') \n",
    "cursor.execute('CREATE INDEX IF NOT EXISTS \"idx_insects_photo_id\" ON \"insects\" (\"photo_id\")') \n",
    "cursor.execute('CREATE INDEX IF NOT EXISTS \"idx_insects_photo_url_large\" ON \"insects\" (\"photo_url_large\")') \n",
    "cursor.execute('CREATE INDEX IF NOT EXISTS \"idx_insects_photo_uuid\" ON \"insects\" (\"photo_uuid\")') \n",
    "cursor.execute('CREATE INDEX IF NOT EXISTS \"idx_insects_taxon_name\" ON \"insects\" (\"taxon_name\")') \n",
    "cursor.execute('CREATE UNIQUE INDEX IF NOT EXISTS \"idx_observations_index\" ON \"insects\" (\"index\")') \n",
    "cursor.execute('CREATE INDEX IF NOT EXISTS \"ix_insects_index\"ON \"insects\" (\"index\")') \n",
    "\n",
    "insect_con.commit()\n",
    "print(\"Executed in %.2f seconds\" % (time.time() - start_time))"
   ]
  },
  {
   "cell_type": "code",
   "execution_count": 9,
   "id": "6fd4d457-d13e-4432-8044-f69a3a0cdc87",
   "metadata": {},
   "outputs": [],
   "source": [
    "insect_con.close()"
   ]
  }
 ],
 "metadata": {
  "kernelspec": {
   "display_name": "Python 3 (ipykernel)",
   "language": "python",
   "name": "python3"
  },
  "language_info": {
   "codemirror_mode": {
    "name": "ipython",
    "version": 3
   },
   "file_extension": ".py",
   "mimetype": "text/x-python",
   "name": "python",
   "nbconvert_exporter": "python",
   "pygments_lexer": "ipython3",
   "version": "3.8.12"
  }
 },
 "nbformat": 4,
 "nbformat_minor": 5
}
