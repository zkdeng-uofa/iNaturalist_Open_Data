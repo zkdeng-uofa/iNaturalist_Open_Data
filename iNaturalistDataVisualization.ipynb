{
 "cells": [
  {
   "cell_type": "code",
   "execution_count": 113,
   "id": "a565b7db-7192-4d30-a3ea-c91090be4332",
   "metadata": {},
   "outputs": [],
   "source": [
    "import sqlite3\n",
    "import pandas as pd\n",
    "import time\n",
    "import os\n",
    "import warnings\n",
    "import plotly.express as px\n",
    "import plotly.io as pio\n",
    "pd.set_option('display.width', 500)"
   ]
  },
  {
   "cell_type": "code",
   "execution_count": 114,
   "id": "bbfafa6f-baed-48dd-bbdd-e74c3c526686",
   "metadata": {},
   "outputs": [
    {
     "name": "stdout",
     "output_type": "stream",
     "text": [
      "0\n"
     ]
    }
   ],
   "source": [
    "inat_con = sqlite3.connect(\"inaturalist-open-data-20220127.sq3db\")\n",
    "print(inat_con.total_changes)"
   ]
  },
  {
   "cell_type": "code",
   "execution_count": null,
   "id": "82677da7-36c1-4de1-aa81-b1491f46924c",
   "metadata": {},
   "outputs": [],
   "source": [
    "# insect_rank_df = pd.read_csv('iNaturalist_Insects_Ranks.csv')\n",
    "# print(insect_rank_df.head())"
   ]
  },
  {
   "cell_type": "code",
   "execution_count": 115,
   "id": "baecd8ab-b3fb-435d-8652-87dff91c5314",
   "metadata": {},
   "outputs": [
    {
     "name": "stdout",
     "output_type": "stream",
     "text": [
      "0\n"
     ]
    }
   ],
   "source": [
    "# insect_con = sqlite3.connect(\"ranked-insects-inaturalist-open-data-20220127.sq3db\")\n",
    "# print(insect_con.total_changes)"
   ]
  },
  {
   "cell_type": "code",
   "execution_count": 116,
   "id": "10838b4a-e53d-4356-b108-4932858fc672",
   "metadata": {},
   "outputs": [
    {
     "name": "stdout",
     "output_type": "stream",
     "text": [
      "        photo_count                 taxon_name                                           ancestry         rank  rank_level\n",
      "0            190328             Apis mellifera  48460/1/47120/372739/47158/184884/47201/124417...      species        10.0\n",
      "1            142726           Danaus plexippus  48460/1/47120/372739/47158/184884/47157/47224/...      species        10.0\n",
      "2            119322          Harmonia axyridis  48460/1/47120/372739/47158/184884/47208/71130/...      species        10.0\n",
      "3             78427           Bombus impatiens  48460/1/47120/372739/47158/184884/47201/124417...      species        10.0\n",
      "4             58325  Coccinella septempunctata  48460/1/47120/372739/47158/184884/47208/71130/...      species        10.0\n",
      "...             ...                        ...                                                ...          ...         ...\n",
      "107969            1                     Neduba  48460/1/47120/372739/47158/184884/47651/132694...        genus        20.0\n",
      "107970            1     Phaneroptera furcifera  48460/1/47120/372739/47158/184884/47651/132694...      species        10.0\n",
      "107971            1                     Therea  48460/1/47120/372739/47158/184884/81769/180742...        genus        20.0\n",
      "107972            1                Acrosternum  48460/1/47120/372739/47158/184884/47744/61267/...        genus        20.0\n",
      "107973            1              Papilionoidea            48460/1/47120/372739/47158/184884/47157  superfamily        33.0\n",
      "\n",
      "[107974 rows x 5 columns]\n",
      "Executed in 25.94 seconds\n"
     ]
    }
   ],
   "source": [
    "# start_time = time.time()\n",
    "# insect_rank_count_df = pd.read_sql_query(\n",
    "#     \"\"\"\n",
    "#     SELECT COUNT(photo_id) as photo_count, taxon_name, ancestry, rank, rank_level   \n",
    "#     FROM insects \n",
    "#     GROUP BY taxon_id \n",
    "#     ORDER BY COUNT(photo_id) DESC \n",
    "#     \"\"\",\n",
    "#     insect_con\n",
    "# )\n",
    "\n",
    "# print(insect_rank_count_df)\n",
    "#insect_rank_count_df.to_csv('iNaturalist_Insects_Rank_Count.csv', index=False)\n",
    "# print(\"Executed in %.2f seconds\" % (time.time() - start_time))"
   ]
  },
  {
   "cell_type": "code",
   "execution_count": 117,
   "id": "c28f1645-b3e1-42e7-a441-86f981c9bba1",
   "metadata": {},
   "outputs": [],
   "source": [
    "insect_rank_count_df = pd.read_csv('iNaturalist_Insects_Rank_Count.csv')\n",
    "print(insect_rank_df.head())"
   ]
  },
  {
   "cell_type": "code",
   "execution_count": null,
   "id": "6101488a-063c-465b-b9e9-41235c4ab135",
   "metadata": {},
   "outputs": [],
   "source": [
    "sample_insect_rank_df = insect_rank_count_df[0:5000]\n",
    "print(sample_insect_rank_df)"
   ]
  },
  {
   "cell_type": "code",
   "execution_count": 88,
   "id": "cf4f37b6-655e-435a-a260-e8d6ce268d3b",
   "metadata": {},
   "outputs": [
    {
     "name": "stdout",
     "output_type": "stream",
     "text": [
      "                       name  taxon_id                            ancestry     rank  rank_level\n",
      "0                      name  taxon_id                            ancestry     rank  rank_level\n",
      "1         Icterus parisorum      9318  48460/1/2/355675/3/7251/11989/9315  species        10.0\n",
      "2                 Calyptura      8943      48460/1/2/355675/3/7251/980017    genus        20.0\n",
      "3  Ictinia mississippiensis      5416  48460/1/2/355675/3/71261/5067/5414  species        10.0\n",
      "4   Amazonetta brasiliensis      7182   48460/1/2/355675/3/6888/6912/7181  species        10.0\n",
      "Executed in 6.72 seconds\n"
     ]
    }
   ],
   "source": [
    "start_time = time.time()\n",
    "taxa_df = pd.read_sql(\n",
    "    \"\"\"\n",
    "    SELECT name, taxon_id, ancestry, rank, rank_level \n",
    "    FROM taxa \n",
    "    \"\"\",\n",
    "    inat_con\n",
    ")\n",
    "print(taxa_df.head())\n",
    "print(\"Executed in %.2f seconds\" % (time.time() - start_time))"
   ]
  },
  {
   "cell_type": "code",
   "execution_count": 110,
   "id": "76565128-59ac-42b2-95eb-d0921daf01a0",
   "metadata": {},
   "outputs": [],
   "source": [
    "def make_taxa_column(row, taxa_df, rank):\n",
    "    ancestry_list = row.ancestry.split('/')\n",
    "    for i in range(0, len(ancestry_list)):\n",
    "        taxa = taxa_df.loc[taxa_df['taxon_id'] == int(ancestry_list[i])]\n",
    "        if (taxa['rank'].values == rank):\n",
    "            return taxa.name\n",
    "        else:\n",
    "            continue\n",
    "    return 'No ' + rank\n",
    "\n",
    "def make_species(row, taxa_df, sample_df, rank):\n",
    "    if str(row['rank']) == rank:\n",
    "        return row.taxon_name\n",
    "    else:\n",
    "        index = sample_df.index\n",
    "        condition = sample_df['taxon_name'] == row.taxon_name\n",
    "        indices = index[condition]\n",
    "        indices_list = indices.tolist()\n",
    "        \n",
    "        #indicies_list = sample_df.index[sample_df['taxon_name'] == row.taxon_name].tolist()\n",
    "        return  str(indices_list) + ' No ' + rank\n",
    "    \n",
    "def make_subspecies(row, taxa_df, rank):\n",
    "    if str(row['rank']) == rank:\n",
    "        return row.taxon_name\n",
    "    else:\n",
    "        return None\n",
    "    "
   ]
  },
  {
   "cell_type": "code",
   "execution_count": null,
   "id": "f6040c89-752f-4448-a7ac-d4718a9355b7",
   "metadata": {},
   "outputs": [],
   "source": [
    "# #4778 seconds\n",
    "# start_time = time.time()\n",
    "# try:\n",
    "#     sample_insect_rank_df['state_of_matter'] = sample_insect_rank_df.apply(make_taxa_column, taxa_df=taxa_df, rank='stateofmatter', axis=1).bfill(axis=1).iloc[:, 0]\n",
    "# except:\n",
    "#     print(\"No state_of_matter\")\n",
    "# try:\n",
    "#     sample_insect_rank_df['kingdom'] = sample_insect_rank_df.apply(make_taxa_column, taxa_df=taxa_df, rank='kingdom', axis=1).bfill(axis=1).iloc[:, 0]\n",
    "# except:\n",
    "#     print(\"No kingdom\")\n",
    "# try:\n",
    "#     sample_insect_rank_df['phylum'] = sample_insect_rank_df.apply(make_taxa_column, taxa_df=taxa_df, rank='phylum', axis=1).bfill(axis=1).iloc[:, 0]\n",
    "# except:\n",
    "#     print(\"No phylum\")\n",
    "# try:\n",
    "#     sample_insect_rank_df['subphylum'] = sample_insect_rank_df.apply(make_taxa_column, taxa_df=taxa_df, rank='subphylum', axis=1).bfill(axis=1).iloc[:, 0]\n",
    "# except:\n",
    "#     print(\"No subphylum\")\n",
    "# try:\n",
    "#     sample_insect_rank_df['class'] = sample_insect_rank_df.apply(make_taxa_column, taxa_df=taxa_df, rank='class', axis=1).bfill(axis=1).iloc[:, 0]\n",
    "# except:\n",
    "#     print(\"No class\")\n",
    "# try:\n",
    "#     sample_insect_rank_df['subclass'] = sample_insect_rank_df.apply(make_taxa_column, taxa_df=taxa_df, rank='subclass', axis=1).bfill(axis=1).iloc[:, 0]\n",
    "# except:\n",
    "#     print(\"No subclass\")\n",
    "# try:\n",
    "#     sample_insect_rank_df['order'] = sample_insect_rank_df.apply(make_taxa_column, taxa_df=taxa_df, rank='order', axis=1).bfill(axis=1).iloc[:, 0]\n",
    "# except:\n",
    "#     print(\"No order\")\n",
    "# try:\n",
    "#     sample_insect_rank_df['superfamily'] = sample_insect_rank_df.apply(make_taxa_column, taxa_df=taxa_df, rank='superfamily', axis=1).bfill(axis=1).iloc[:, 0]\n",
    "# except:\n",
    "#     print(\"No superfamily\")\n",
    "# try:\n",
    "#     sample_insect_rank_df['family'] = sample_insect_rank_df.apply(make_taxa_column, taxa_df=taxa_df, rank='family', axis=1).bfill(axis=1).iloc[:, 0]\n",
    "# except:\n",
    "#     print(\"No family\")\n",
    "# try:\n",
    "#     sample_insect_rank_df['subfamily'] = sample_insect_rank_df.apply(make_taxa_column, taxa_df=taxa_df, rank='subfamily', axis=1).bfill(axis=1).iloc[:, 0]\n",
    "# except:\n",
    "#     print(\"No subfamily\")\n",
    "# try:\n",
    "#     sample_insect_rank_df['supertribe'] = sample_insect_rank_df.apply(make_taxa_column, taxa_df=taxa_df, rank='supertribe', axis=1).bfill(axis=1).iloc[:, 0]\n",
    "# except:\n",
    "#     print(\"No supertribe\")\n",
    "# try:\n",
    "#     sample_insect_rank_df['tribe'] = sample_insect_rank_df.apply(make_taxa_column, taxa_df=taxa_df, rank='tribe', axis=1).bfill(axis=1).iloc[:, 0]\n",
    "# except:\n",
    "#     print(\"No tribe\")\n",
    "# try:\n",
    "#     sample_insect_rank_df['subtribe'] = sample_insect_rank_df.apply(make_taxa_column, taxa_df=taxa_df, rank='subtribe', axis=1).bfill(axis=1).iloc[:, 0]\n",
    "# except:\n",
    "#     print(\"No subtribe\")\n",
    "# try:\n",
    "#     sample_insect_rank_df['genus'] = sample_insect_rank_df.apply(make_taxa_column, taxa_df=taxa_df, rank='genus', axis=1).bfill(axis=1).iloc[:, 0]\n",
    "# except:\n",
    "#     print(\"No genus\")\n",
    "# try:\n",
    "#     sample_insect_rank_df['subgenus'] = sample_insect_rank_df.apply(make_taxa_column, taxa_df=taxa_df, rank='subgenus', axis=1).bfill(axis=1).iloc[:, 0]\n",
    "# except:\n",
    "#     print(\"No subgenus\")\n",
    "# try:\n",
    "#     sample_insect_rank_df['section'] = sample_insect_rank_df.apply(make_taxa_column, taxa_df=taxa_df, rank='section', axis=1).bfill(axis=1).iloc[:, 0]\n",
    "# except:\n",
    "#     print(\"No section\")\n",
    "# try:\n",
    "#     sample_insect_rank_df['complex'] = sample_insect_rank_df.apply(make_taxa_column, taxa_df=taxa_df, rank='complex', axis=1).bfill(axis=1).iloc[:, 0]\n",
    "# except:\n",
    "#     print(\"No complex\")\n",
    "# try:\n",
    "#     sample_insect_rank_df['species'] = sample_insect_rank_df.apply(make_taxa_column, taxa_df=taxa_df, rank='species', axis=1).bfill(axis=1).iloc[:, 0]\n",
    "# except:\n",
    "#     print(\"No species\")\n",
    "# # try:\n",
    "# #     sample_insect_rank_df['subspecies'] = sample_insect_rank_df.apply(make_taxa_column, taxa_df=taxa_df, rank='subspecies', axis=1).bfill(axis=1).iloc[:, 0]\n",
    "# # except:\n",
    "# #     print(\"No subspecies\")\n",
    "# sample_insect_rank_df['species'] = sample_insect_rank_df.apply(make_species, taxa_df=taxa_df, sample_df = sample_insect_rank_df, rank='species', axis=1)\n",
    "# sample_insect_rank_df['subspecies'] = sample_insect_rank_df.apply(make_subspecies, taxa_df=taxa_df, rank='subspecies', axis=1)\n",
    "# print(sample_insect_rank_df.head())\n",
    "# sample_insect_rank_df.to_csv('iNaturalist_Insects_Taxa_Columns_T5000.csv', index=False)\n",
    "# print(\"Executed in %.2f seconds\" % (time.time() - start_time))"
   ]
  },
  {
   "cell_type": "code",
   "execution_count": 120,
   "id": "80a82bd8-77af-4f25-b21a-74fa4aa6f4c1",
   "metadata": {},
   "outputs": [
    {
     "name": "stdout",
     "output_type": "stream",
     "text": [
      "   photo_count                 taxon_name                                           ancestry     rank  rank_level state_of_matter   kingdom      phylum subphylum    class   subclass        order     superfamily         family      subfamily         tribe       genus     subgenus\n",
      "0       190328             Apis mellifera  48460/1/47120/372739/47158/184884/47201/124417...  species        10.0            Life  Animalia  Arthropoda  Hexapoda  Insecta  Pterygota  Hymenoptera         Apoidea         Apidae         Apinae         Apini        Apis         Apis\n",
      "1       142726           Danaus plexippus  48460/1/47120/372739/47158/184884/47157/47224/...  species        10.0            Life  Animalia  Arthropoda  Hexapoda  Insecta  Pterygota  Lepidoptera   Papilionoidea    Nymphalidae       Danainae       Danaini      Danaus  No subgenus\n",
      "2       119322          Harmonia axyridis  48460/1/47120/372739/47158/184884/47208/71130/...  species        10.0            Life  Animalia  Arthropoda  Hexapoda  Insecta  Pterygota   Coleoptera  Coccinelloidea  Coccinellidae  Coccinellinae  Coccinellini    Harmonia  No subgenus\n",
      "3        78427           Bombus impatiens  48460/1/47120/372739/47158/184884/47201/124417...  species        10.0            Life  Animalia  Arthropoda  Hexapoda  Insecta  Pterygota  Hymenoptera         Apoidea         Apidae         Apinae       Bombini      Bombus   Pyrobombus\n",
      "4        58325  Coccinella septempunctata  48460/1/47120/372739/47158/184884/47208/71130/...  species        10.0            Life  Animalia  Arthropoda  Hexapoda  Insecta  Pterygota   Coleoptera  Coccinelloidea  Coccinellidae  Coccinellinae  Coccinellini  Coccinella  No subgenus\n"
     ]
    }
   ],
   "source": [
    "sample_insect_rank_df = pd.read_csv('iNaturalist_Insects_Taxa_Columns_T5000.csv')\n",
    "print(sample_insect_rank_df.head())"
   ]
  },
  {
   "cell_type": "code",
   "execution_count": 124,
   "id": "0500b048-bb40-4ab6-9e62-3dfaf25ceeb5",
   "metadata": {},
   "outputs": [],
   "source": [
    "warnings.filterwarnings('ignore')\n",
    "pio.renderers.default = \"browser\"\n",
    "#fig = px.sunburst(sample_insect_rank_df, path=['state_of_matter', 'kingdom', 'phylum', 'subphylum', 'class', 'subclass', 'order', 'superfamily', 'family', 'subfamily', 'tribe', 'genus', 'subgenus', 'taxon_name'], values='photo_count', color='photo_count')\n",
    "fig = px.sunburst(sample_insect_rank_df, path=['class', 'subclass', 'order', 'superfamily', 'family', 'subfamily', 'tribe', 'genus', 'subgenus', 'species', 'subspecies'], values='photo_count', color='photo_count')\n",
    "fig.show()"
   ]
  }
 ],
 "metadata": {
  "kernelspec": {
   "display_name": "Python 3 (ipykernel)",
   "language": "python",
   "name": "python3"
  },
  "language_info": {
   "codemirror_mode": {
    "name": "ipython",
    "version": 3
   },
   "file_extension": ".py",
   "mimetype": "text/x-python",
   "name": "python",
   "nbconvert_exporter": "python",
   "pygments_lexer": "ipython3",
   "version": "3.8.12"
  }
 },
 "nbformat": 4,
 "nbformat_minor": 5
}
