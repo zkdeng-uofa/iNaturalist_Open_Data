{
 "cells": [
  {
   "cell_type": "code",
   "execution_count": 1,
   "id": "2549f0e9-b665-4952-939b-5d66dce81aab",
   "metadata": {},
   "outputs": [],
   "source": [
    "import sqlite3\n",
    "connection = sqlite3.connect(\"inaturalist-open-data-20220127.sq3db\")"
   ]
  },
  {
   "cell_type": "code",
   "execution_count": 2,
   "id": "3d0bc322-149e-49b6-9520-a0b7f86ef696",
   "metadata": {},
   "outputs": [
    {
     "name": "stdout",
     "output_type": "stream",
     "text": [
      "0\n"
     ]
    }
   ],
   "source": [
    "print(connection.total_changes)"
   ]
  },
  {
   "cell_type": "code",
   "execution_count": 3,
   "id": "2853f24b-decf-42f0-bdc4-9d50f0eb711f",
   "metadata": {},
   "outputs": [
    {
     "name": "stdout",
     "output_type": "stream",
     "text": [
      "[('photo_uuid', 'photo_id', 'observation_uuid', 'observer_id', 'extension', 'license', 'width', 'height', 'position'), ('a291d420-3ca6-4f94-b955-6c936a9b596d', 35926, '526ababd-aff2-4ce8-b111-d8013b9d8b42', 505, 'jpg', 'CC-BY', 2048, 1680, 0), ('c6d7769c-0390-42cc-8012-874cd49ea180', 35925, '526ababd-aff2-4ce8-b111-d8013b9d8b42', 505, 'jpg', 'CC-BY', 2048, 1863, 1)]\n"
     ]
    }
   ],
   "source": [
    "cursor = connection.cursor()\n",
    "rows = cursor.execute(\"SELECT * FROM photos LIMIT 3\").fetchall()\n",
    "print(rows)"
   ]
  },
  {
   "cell_type": "code",
   "execution_count": 4,
   "id": "a8016ae8-711b-4016-99cb-23399e70acda",
   "metadata": {},
   "outputs": [
    {
     "name": "stdout",
     "output_type": "stream",
     "text": [
      "[(31539, 'CC-BY')]\n"
     ]
    }
   ],
   "source": [
    "target_photo_id = 31539\n",
    "rows = cursor.execute(\n",
    "    \"SELECT photo_id, license FROM photos WHERE photo_id = ?\", \n",
    "    (target_photo_id, ),\n",
    ").fetchall()\n",
    "print(rows)"
   ]
  },
  {
   "cell_type": "code",
   "execution_count": 5,
   "id": "6397c163-390f-450b-9243-691b330af114",
   "metadata": {},
   "outputs": [
    {
     "name": "stdout",
     "output_type": "stream",
     "text": [
      "[(1311566, 1295775)]\n"
     ]
    }
   ],
   "source": [
    "rows = cursor.execute(\n",
    "    \"SELECT COUNT(DISTINCT taxon_id), COUNT(DISTINCT name)\"\n",
    "    \"FROM taxa \"\n",
    "    \"LIMIT 10 \"\n",
    ").fetchall()\n",
    "\n",
    "print(rows)"
   ]
  },
  {
   "cell_type": "code",
   "execution_count": 6,
   "id": "4c9fc276-9eb8-43b6-a936-89c712fdd016",
   "metadata": {},
   "outputs": [
    {
     "name": "stdout",
     "output_type": "stream",
     "text": [
      "[(199006,)]\n"
     ]
    }
   ],
   "source": [
    "rows = cursor.execute(\n",
    "    \"SELECT COUNT(DISTINCT ancestry)\"\n",
    "    \"FROM taxa \"\n",
    "    \"LIMIT 10 \"\n",
    ").fetchall()\n",
    "\n",
    "print(rows)"
   ]
  },
  {
   "cell_type": "code",
   "execution_count": 7,
   "id": "695878b7-75f0-4417-9efa-ca045c7dedbc",
   "metadata": {},
   "outputs": [
    {
     "name": "stdout",
     "output_type": "stream",
     "text": [
      "[(47158, '48460/1/47120/372739', 50.0, 'class', 'Insecta', 'true')]\n"
     ]
    }
   ],
   "source": [
    "# query all insects \n",
    "rows = cursor.execute(\n",
    "    \"SELECT *\"\n",
    "    \"FROM taxa \"\n",
    "    \"WHERE name = 'Insecta' \"\n",
    "    \"LIMIT 10 \"\n",
    ").fetchall()\n",
    "\n",
    "print(rows)"
   ]
  },
  {
   "cell_type": "code",
   "execution_count": 8,
   "id": "36b517db-ddb2-4639-8a44-b37f5cdee1cb",
   "metadata": {},
   "outputs": [
    {
     "name": "stdout",
     "output_type": "stream",
     "text": [
      "[(372739, '48460/1/47120', 57.0, 'subphylum', 'Hexapoda', 'true')]\n"
     ]
    }
   ],
   "source": [
    "# query all hexapods\n",
    "rows = cursor.execute(\n",
    "    \"SELECT *\"\n",
    "    \"FROM taxa \"\n",
    "    \"WHERE taxon_id = 372739 \"\n",
    "    \"LIMIT 10 \"\n",
    ").fetchall()\n",
    "\n",
    "print(rows)"
   ]
  },
  {
   "cell_type": "code",
   "execution_count": 9,
   "id": "a949fc86-31ac-40ee-9ac4-db427e1d56ef",
   "metadata": {},
   "outputs": [
    {
     "name": "stdout",
     "output_type": "stream",
     "text": [
      "[('Crabro peltarius', 'species'), ('Halyzia hauseri', 'species'), ('Gonitis privata', 'species'), ('Pulvinaria regalis', 'species'), ('Diplotaxis academia', 'species'), ('Polistes dorsalis', 'species'), ('Akis algeriana', 'species'), ('Crabro diacanthus', 'species'), ('Junonia almana', 'species'), ('Ctenophorema balneare', 'species')]\n"
     ]
    }
   ],
   "source": [
    "# query all insects at insect lvl\n",
    "rows = cursor.execute(\n",
    "    \"SELECT name, rank \"\n",
    "    \"FROM taxa \"\n",
    "    \"WHERE ancestry LIKE '48460/1/47120/372739/47158/%' \"\n",
    "    \"AND rank = 'species' \"\n",
    "    \"LIMIT 10 \"\n",
    ").fetchall()\n",
    "\n",
    "print(rows)"
   ]
  },
  {
   "cell_type": "code",
   "execution_count": 10,
   "id": "1b824c2b-8c9e-42b3-b453-336c73b9008c",
   "metadata": {},
   "outputs": [
    {
     "name": "stdout",
     "output_type": "stream",
     "text": [
      "[(403111,)]\n"
     ]
    }
   ],
   "source": [
    "# distinct number of insects\n",
    "rows = cursor.execute(\n",
    "    \"SELECT COUNT(DISTINCT taxon_id) \"\n",
    "    \"FROM taxa \"\n",
    "    \"WHERE ancestry LIKE '48460/1/47120/372739/47158/%' \"\n",
    "    \"AND rank = 'species' \"\n",
    "    \"LIMIT 10 \"\n",
    ").fetchall()\n",
    "\n",
    "print(rows)"
   ]
  },
  {
   "cell_type": "code",
   "execution_count": 11,
   "id": "ed1b353a-76da-4332-9646-bbd8433fcfc4",
   "metadata": {},
   "outputs": [
    {
     "name": "stdout",
     "output_type": "stream",
     "text": [
      "[]\n"
     ]
    }
   ],
   "source": [
    "rows = cursor.execute(\n",
    "    \"SELECT name, taxon_id \"\n",
    "    \"FROM taxa \"\n",
    "    \"WHERE ancestry LIKE '48460/1/47120/372739/47158/%' \"\n",
    "    \"AND rank = 'species' \"\n",
    "    \"GROUP BY taxon_id \"\n",
    "    \"HAVING COUNT(name) > 1 \"\n",
    "    \"LIMIT 10 \"\n",
    ").fetchall()\n",
    "\n",
    "print(rows)"
   ]
  },
  {
   "cell_type": "code",
   "execution_count": 12,
   "id": "4def1111-59ba-431b-add2-1ce8b8a81f59",
   "metadata": {},
   "outputs": [
    {
     "name": "stdout",
     "output_type": "stream",
     "text": [
      "[('Acleris logiana', 212338, '48460/1/47120/372739/47158/184884/47157/47156/47155/124615/199539/124620'), ('Acleris logiana', 1127186, '48460/1/47120/372739/47158/184884/47157/47156/47155/124615/199539/124620')]\n"
     ]
    }
   ],
   "source": [
    "# test of 2 distinct taxon_ids for the same name\n",
    "rows = cursor.execute(\n",
    "    \"SELECT name, taxon_id, ancestry \"\n",
    "    \"FROM taxa \"\n",
    "    \"WHERE ancestry LIKE '48460/1/47120/372739/47158/%' \"\n",
    "    \"AND rank = 'species' \"\n",
    "    \"AND name = 'Acleris logiana' \"\n",
    "    \"LIMIT 10 \"\n",
    ").fetchall()\n",
    "\n",
    "print(rows)"
   ]
  },
  {
   "cell_type": "code",
   "execution_count": 13,
   "id": "10761e53-564d-43a4-a567-db73f31018b7",
   "metadata": {},
   "outputs": [
    {
     "name": "stdout",
     "output_type": "stream",
     "text": [
      "[('Aedes aloponotum', 458895, '48460/1/47120/372739/47158/184884/47822/154259/153429/513826/52134/357355/505234/62989'), ('Aedes aloponotum', 1112054, '48460/1/47120/372739/47158/184884/47822/154259/153429/513826/52134/357355/505234/62989/1111823')]\n"
     ]
    }
   ],
   "source": [
    "# test of 2 distinct taxon_ids for the same name\n",
    "rows = cursor.execute(\n",
    "    \"SELECT name, taxon_id, ancestry \"\n",
    "    \"FROM taxa \"\n",
    "    \"WHERE ancestry LIKE '48460/1/47120/372739/47158/%' \"\n",
    "    \"AND rank = 'species' \"\n",
    "    \"AND name = 'Aedes aloponotum' \"\n",
    "    \"LIMIT 10 \"\n",
    ").fetchall()\n",
    "\n",
    "print(rows)"
   ]
  },
  {
   "cell_type": "code",
   "execution_count": null,
   "id": "23a00b4d-c1aa-4f75-b60c-f5a11f3e8b3c",
   "metadata": {},
   "outputs": [],
   "source": [
    "rows = cursor.execute(\n",
    "    \"WITH urls AS (SELECT 'http://inaturalist-open-data.s3.amazonaws.com/photos/' AS photo_url) \"\n",
    "    \"SELECT B.*, U.photo_url || A.photo_id || '/' || 'large.' || A.extension AS photo_url_large \"\n",
    "    \"FROM urls U \"\n",
    "    \"CROSS JOIN photos A \"\n",
    "    \"JOIN observers B \"\n",
    "    \"ON A.observer_id = B.observer_id \"\n",
    "    \"JOIN observations C \"\n",
    "    \"ON A.observation_uuid = C.observation_uuid \"\n",
    "    \"LEFT JOIN taxa D \"\n",
    "    \"ON C.taxon_id = D.taxon_id \"\n",
    "    \"WHERE D.ancestry LIKE '48460/1/47120/372739/47158/%' \"\n",
    "    \"AND D.rank = 'species' \"\n",
    "    \"ORDER BY A.photo_id \"\n",
    "    \"LIMIT 10 \"\n",
    ").fetchall()\n",
    "    \n",
    "print(rows)"
   ]
  },
  {
   "cell_type": "code",
   "execution_count": null,
   "id": "7938caab-48dd-41bb-8b30-a7a00e36bbb6",
   "metadata": {},
   "outputs": [],
   "source": []
  }
 ],
 "metadata": {
  "kernelspec": {
   "display_name": "Python 3 (ipykernel)",
   "language": "python",
   "name": "python3"
  },
  "language_info": {
   "codemirror_mode": {
    "name": "ipython",
    "version": 3
   },
   "file_extension": ".py",
   "mimetype": "text/x-python",
   "name": "python",
   "nbconvert_exporter": "python",
   "pygments_lexer": "ipython3",
   "version": "3.8.12"
  }
 },
 "nbformat": 4,
 "nbformat_minor": 5
}
