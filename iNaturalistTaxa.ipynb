{
 "cells": [
  {
   "cell_type": "code",
   "execution_count": null,
   "id": "58608c10-c61e-4200-b4d6-cc85a1d79a16",
   "metadata": {},
   "outputs": [],
   "source": [
    "import numpy as np\n",
    "import sqlite3\n",
    "import pandas as pd\n",
    "import time\n",
    "pd.set_option('display.width', 500)"
   ]
  },
  {
   "cell_type": "code",
   "execution_count": null,
   "id": "6a4b8f0b-6b61-45ec-9cf5-8fd992e43690",
   "metadata": {},
   "outputs": [],
   "source": [
    "inat_con = sqlite3.connect(\"inaturalist-open-data-20220127.sq3db\")\n",
    "print(inat_con.total_changes)"
   ]
  },
  {
   "cell_type": "code",
   "execution_count": null,
   "id": "d095088b-4706-44ac-943b-40b2f35679c4",
   "metadata": {},
   "outputs": [],
   "source": [
    "start_time = time.time()\n",
    "insect_taxa_df = pd.read_sql_query(\n",
    "    \"\"\"\n",
    "    SELECT name, taxon_id, ancestry \n",
    "    FROM taxa \n",
    "    WHERE ancestry LIKE '48460/1/47120/372739/%' \n",
    "    \"\"\",\n",
    "    inat_con\n",
    ")\n",
    "\n",
    "print(insect_taxa_df.head())\n",
    "insect_taxa_df.to_csv('Insects_Taxa.csv', index=False)\n",
    "print(\"Executed in %.2f seconds\" % (time.time() - start_time))"
   ]
  },
  {
   "cell_type": "code",
   "execution_count": null,
   "id": "4ff1ba0c-4c3b-40bc-ab73-bd6f0038c77a",
   "metadata": {},
   "outputs": [],
   "source": [
    "life_taxa_df = [['Life', '48460'], ['Animalia', '1'], ['Anthropoda', '47120'], ['Hexapoda', '372739'], ['Insecta', '47158']]\n",
    "life_taxa_df = pd.DataFrame(life_taxa_df, columns = ['taxon_name', 'taxon_id'])\n",
    "print(life_taxa_df)"
   ]
  },
  {
   "cell_type": "code",
   "execution_count": null,
   "id": "07e8b320-06cc-4e07-b8ba-26b76a10234f",
   "metadata": {},
   "outputs": [],
   "source": [
    "insect_taxa_df['ancestry'] = '/'+insect_taxa_df['ancestry']+'/'\n",
    "print(insect_taxa_df['ancestry'][0])"
   ]
  },
  {
   "cell_type": "code",
   "execution_count": null,
   "id": "9acdfc26-610a-49f5-b0b3-170cf0f9f045",
   "metadata": {},
   "outputs": [],
   "source": [
    "start_time = time.time()\n",
    "for i in range(0, len(life_taxa_df)):\n",
    "    insect_taxa_df['ancestry'] = insect_taxa_df['ancestry'].replace(\n",
    "        '/' + life_taxa_df['taxon_id'][i] + '/',\n",
    "        '/' + life_taxa_df['taxon_name'][i] + '/',\n",
    "        regex = True\n",
    "    )\n",
    "    print(\"%d/5 executed in %.2f seconds\" % (i+1, (time.time() - start_time)))\n",
    "\n",
    "print(insect_taxa_df.head())    "
   ]
  },
  {
   "cell_type": "code",
   "execution_count": null,
   "id": "b2f9936d-5802-4501-9377-18b89755cebc",
   "metadata": {},
   "outputs": [],
   "source": [
    "for i in range(0, len(insect_taxa_df)):\n",
    "    insect_taxa_df['ancestry'] = insect_taxa_df['ancestry'].replace(\n",
    "        '/' + insect_taxa_df['taxon_id'][i].astype(str) + '/',\n",
    "        '/' + insect_taxa_df['name'][i] + '/',\n",
    "        regex = True\n",
    "    )\n",
    "    \n",
    "print(insect_taxa_df.head())   \n",
    "insect_taxa_df.to_csv('Named_Ancestry.csv', index=False)"
   ]
  }
 ],
 "metadata": {
  "kernelspec": {
   "display_name": "Python 3 (ipykernel)",
   "language": "python",
   "name": "python3"
  },
  "language_info": {
   "codemirror_mode": {
    "name": "ipython",
    "version": 3
   },
   "file_extension": ".py",
   "mimetype": "text/x-python",
   "name": "python",
   "nbconvert_exporter": "python",
   "pygments_lexer": "ipython3",
   "version": "3.8.12"
  }
 },
 "nbformat": 4,
 "nbformat_minor": 5
}
